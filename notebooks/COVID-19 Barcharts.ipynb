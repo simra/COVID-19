{
 "cells": [
  {
   "cell_type": "code",
   "execution_count": 5,
   "metadata": {},
   "outputs": [],
   "source": [
    "import os\n",
    "import pandas as pd\n",
    "from math import ceil\n",
    "import matplotlib.pyplot as plt\n",
    "import matplotlib.font_manager as font_manager\n",
    "import datetime"
   ]
  },
  {
   "cell_type": "code",
   "execution_count": null,
   "metadata": {},
   "outputs": [],
   "source": [
    "# Load Data\n",
    "\n",
    "\n",
    "def prepData(datapath):\n",
    "    raw = pd.read_csv(datapath)\n",
    "    del raw['Lat']\n",
    "    del raw['Long']\n",
    "    raw= raw.replace('Mainland China','China')\n",
    "    df=raw.groupby('Country/Region').sum()\n",
    "    # 03/14: temporarily drop the last column\n",
    "    #del df[df.columns[-1]]\n",
    "    last_date = list(df.columns)[-1]\n",
    "\n",
    "    #df = df[(df.index.isin(['Canada','Japan'])) | (df[last_date]>100)]\n",
    "\n",
    "    df['Country/Region']=df.index\n",
    "    df=df.melt(id_vars='Country/Region',var_name='date', value_name='Confirmed').pivot(index='date',columns='Country/Region')\n",
    "    df['date']=pd.to_datetime(df.index)\n",
    "\n",
    "    df.index.name = None\n",
    "    df=df.sort_values(by=['date'])\n",
    "    df.set_index('date', inplace=True)\n",
    "    df.columns = [c[1] for c in df.columns]\n",
    "    return df\n",
    "\n",
    "deaths = prepData('../csse_covid_19_data/csse_covid_19_time_series/time_series_covid19_deaths_global.csv')\n",
    "recovered = prepData('../csse_covid_19_data/csse_covid_19_time_series/time_series_covid19_recovered_global.csv')\n",
    "confirmed = prepData('../csse_covid_19_data/csse_covid_19_time_series/time_series_covid19_confirmed_global.csv')\n",
    "\n",
    "\n",
    "def plotBars(countries):\n",
    "    plt.rcParams[\"figure.figsize\"] = [20, 2*len(countries)]\n",
    "    fig, axs = plt.subplots(len(countries),1, sharex=True,constrained_layout=True)\n",
    "    for (i,(country,ax)) in enumerate(zip(countries,axs)):\n",
    "        active = []\n",
    "        for (c,r,d) in zip(confirmed[country], recovered[country], deaths[country]):\n",
    "            active.append(c-r)\n",
    "        ax.bar(confirmed.index,active, color='red')\n",
    "        rec = []\n",
    "        for (r,d) in zip(recovered[country],deaths[country]):\n",
    "            rec.append(r+d)\n",
    "        #ax.bar(recovered.index,rec, color='green')\n",
    "        ax.bar(deaths.index, deaths[country], color='black')\n",
    "        #ax.set_yscale('log')\n",
    "        ax.text(0.01,0.85,country, transform=ax.transAxes, ha='left', size=14)\n",
    "        fig.suptitle('COVID-19 Active Cases + Cumulative Fatalities',size=46)\n",
    "        if i==0:\n",
    "            ax.legend(['Active Cases','Fatalities'])\n",
    "\n",
    "\n",
    "plotBars(['China','Canada','US','Italy','Singapore','Korea, South','Japan','Germany','France','Australia','United Kingdom'])\n",
    "\n",
    "maxDate = confirmed.index[-1]\n",
    "#print(maxDate)\n",
    "savedir = os.path.join('data',maxDate.strftime('%Y%m%d'))\n",
    "if not os.path.isdir(savedir):\n",
    "    os.makedirs(savedir)\n",
    "plt.savefig(os.path.join(savedir,'5_barplots.png'))"
   ]
  },
  {
   "cell_type": "code",
   "execution_count": 7,
   "metadata": {},
   "outputs": [
    {
     "ename": "NameError",
     "evalue": "name 'df' is not defined",
     "output_type": "error",
     "traceback": [
      "\u001b[1;31m---------------------------------------------------------------------------\u001b[0m",
      "\u001b[1;31mNameError\u001b[0m                                 Traceback (most recent call last)",
      "\u001b[1;32m<ipython-input-7-2d693fbb37fa>\u001b[0m in \u001b[0;36m<module>\u001b[1;34m\u001b[0m\n\u001b[0;32m      7\u001b[0m \u001b[1;31m#print(df.index[20:])\u001b[0m\u001b[1;33m\u001b[0m\u001b[1;33m\u001b[0m\u001b[1;33m\u001b[0m\u001b[0m\n\u001b[0;32m      8\u001b[0m \u001b[0mgrowth\u001b[0m \u001b[1;33m=\u001b[0m \u001b[1;33m{\u001b[0m\u001b[1;33m}\u001b[0m\u001b[1;33m\u001b[0m\u001b[1;33m\u001b[0m\u001b[0m\n\u001b[1;32m----> 9\u001b[1;33m \u001b[0mmarkers\u001b[0m \u001b[1;33m=\u001b[0m \u001b[1;33m[\u001b[0m\u001b[0mitem\u001b[0m \u001b[1;32mfor\u001b[0m \u001b[0msublist\u001b[0m \u001b[1;32min\u001b[0m \u001b[1;33m[\u001b[0m\u001b[1;34m'oxds+*'\u001b[0m\u001b[1;33m]\u001b[0m\u001b[1;33m*\u001b[0m\u001b[0mceil\u001b[0m\u001b[1;33m(\u001b[0m\u001b[0mlen\u001b[0m\u001b[1;33m(\u001b[0m\u001b[0mdf\u001b[0m\u001b[1;33m.\u001b[0m\u001b[0mcolumns\u001b[0m\u001b[1;33m)\u001b[0m\u001b[1;33m/\u001b[0m\u001b[1;36m5\u001b[0m\u001b[1;33m)\u001b[0m \u001b[1;32mfor\u001b[0m \u001b[0mitem\u001b[0m \u001b[1;32min\u001b[0m \u001b[0msublist\u001b[0m\u001b[1;33m]\u001b[0m\u001b[1;33m\u001b[0m\u001b[1;33m\u001b[0m\u001b[0m\n\u001b[0m\u001b[0;32m     10\u001b[0m \u001b[0mwindow\u001b[0m\u001b[1;33m=\u001b[0m\u001b[1;36m14\u001b[0m\u001b[1;33m\u001b[0m\u001b[1;33m\u001b[0m\u001b[0m\n\u001b[0;32m     11\u001b[0m \u001b[1;32mfor\u001b[0m \u001b[0mc\u001b[0m\u001b[1;33m,\u001b[0m\u001b[0mm\u001b[0m \u001b[1;32min\u001b[0m \u001b[0mzip\u001b[0m\u001b[1;33m(\u001b[0m\u001b[0mdf\u001b[0m\u001b[1;33m.\u001b[0m\u001b[0mcolumns\u001b[0m\u001b[1;33m,\u001b[0m\u001b[0mmarkers\u001b[0m\u001b[1;33m)\u001b[0m\u001b[1;33m:\u001b[0m\u001b[1;33m\u001b[0m\u001b[1;33m\u001b[0m\u001b[0m\n",
      "\u001b[1;31mNameError\u001b[0m: name 'df' is not defined"
     ]
    },
    {
     "data": {
      "image/png": "[encoded data removed]",
      "text/plain": [
       "<Figure size 720x720 with 1 Axes>"
      ]
     },
     "metadata": {
      "needs_background": "light"
     },
     "output_type": "display_data"
    }
   ],
   "source": [
    "%matplotlib inline\n",
    "plt.rcParams[\"figure.figsize\"] = [10, 10]\n",
    "\n",
    "#del df['Cruise Ship']\n",
    "\n",
    "fig, ax = plt.subplots()\n",
    "#print(df.index[20:])\n",
    "growth = {}\n",
    "markers = [item for sublist in ['oxds+*']*ceil(len(df.columns)/5) for item in sublist]    \n",
    "window=14\n",
    "for c,m in zip(df.columns,markers):\n",
    "    \n",
    "    growth[c] = [(pow(df[c][i]/max(1.0,df[c][i-(window-1)]),1.0/window)-1)*100 if df[c][i]>10 else float('nan') for i in range(window,len(df[c]))]\n",
    "    #growth[c] = [growth[c][i] if growth[c][i]<100 else float('nan') for i in range(len(growth[c]))]\n",
    "    ax.plot(df.index[window:], growth[c], marker=m)\n",
    "\n",
    "font = font_manager.FontProperties(family='sans-serif',\n",
    "                                   weight='normal',\n",
    "                                   style='normal', size=12)\n",
    "ax.legend(df.columns, prop=font)       \n",
    "ax.set_xlabel('Date', size=12)\n",
    "ax.set_ylabel('Avg daily % growth ({} days ending X)'.format(window), size=12)\n",
    "#plt.ylim((0,100))"
   ]
  },
  {
   "cell_type": "code",
   "execution_count": null,
   "metadata": {},
   "outputs": [],
   "source": [
    "maxDate = max(df.index)\n",
    "threshold = 10\n",
    "for c in df.columns:\n",
    "    for i,a in enumerate(df[c]):        \n",
    "        if a>=threshold:\n",
    "            df[c]=df[c].shift(-i)            \n",
    "            break\n",
    "df=df.reset_index(drop=True)\n",
    "#del df['China']\n",
    "df"
   ]
  },
  {
   "cell_type": "code",
   "execution_count": null,
   "metadata": {},
   "outputs": [],
   "source": [
    "%matplotlib inline\n",
    "plt.rcParams[\"figure.figsize\"] = [10, 10]\n",
    "def plotdataframe(df, logy=False, legend=True):\n",
    "    fig, ax = plt.subplots()\n",
    "    markers = [item for sublist in ['oxds+*']*ceil(len(df.columns)/5) for item in sublist]    \n",
    "    for c,m in zip(df,markers):\n",
    "        df[c].plot(logy=logy, marker=m, fontsize=12,ax=ax, linewidth=2.5)\n",
    "    \n",
    "    font = font_manager.FontProperties(family='sans-serif',\n",
    "                                   weight='normal',\n",
    "                                   style='normal', size=12)\n",
    "    legend and ax.legend(prop=font)\n",
    "\n",
    "    return ax\n",
    "\n",
    "plotdataframe(df, logy=True)"
   ]
  }
 ],
 "metadata": {
  "kernelspec": {
   "display_name": "Python 3",
   "language": "python",
   "name": "python3"
  },
  "language_info": {
   "codemirror_mode": {
    "name": "ipython",
    "version": 3
   },
   "file_extension": ".py",
   "mimetype": "text/x-python",
   "name": "python",
   "nbconvert_exporter": "python",
   "pygments_lexer": "ipython3",
   "version": "3.7.6"
  }
 },
 "nbformat": 4,
 "nbformat_minor": 2
}
